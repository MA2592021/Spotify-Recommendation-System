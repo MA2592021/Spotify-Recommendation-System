import numpy as np
import pandas as pd
import json
import heapq
import pprint as pp
from sklearn import metrics, datasets
from sklearn.model_selection import train_test_split
from sklearn.linear_model import LogisticRegression, LinearRegression
from sklearn.linear_model import LogisticRegressionCV
from sklearn.preprocessing import PolynomialFeatures
from sklearn.metrics import accuracy_score, r2_score
import matplotlib
import matplotlib.pyplot as plt

PATH = "C:\Users\Amir\technolab\datasets\mpd.slice.0-999.json"

with open(PATH) as f:
    data = json.load(f)
    playlists = data["playlists"]
    #pp.pprint(playlists[0])
data = pd.DataFrame(playlists)
print(len(data))

import glob
path ="C:\Users\Amir\technolab\datasets" 
allFiles = glob.glob(path + "/*.json")

data = []
nums = [i for i in range(1,11)]
for i,file_ in enumerate(allFiles[:50]):
    with open(file_) as f:
        df = json.load(f)
        data = data + df['playlists']

artists = {}
for playlist in data: 
    for tracks in playlist['tracks']: 
        for track in tracks: 
            artist = track['artist_name']
            if artist not in artists: 
                artists[artist] = 0
            artists[artist] += 1

biggestArtists = heapq.nlargest(20, artists, key=artists.get)
totalTracks = [artists[artist] for artist in biggestArtists]

plt.figure(figsize=(17,8))
plt.bar(biggestArtists, totalTracks)

plt.title("Biggest Artists in First 1000 Playlists")
plt.ylabel("Total Tracks")
plt.xticks(rotation='vertical')

plt.show()

playlistLength = [len(tracks) for tracks in data['tracks']]

plt.hist(playlistLength)

plt.title("Distribution of Songs in a Playlist")

plt.show()

wordsInTitle = {}


for tracks in data['name']: 
    name = tracks.split(" ")
    for s in name: 
        if s.lower() not in wordsInTitle: 
            wordsInTitle[s.lower()] = 0
        wordsInTitle[s.lower()] += 1

mostCommonNames = heapq.nlargest(20, wordsInTitle, key=wordsInTitle.get)
totalOccurences = [wordsInTitle[word] for word in mostCommonNames]

plt.figure(figsize=(17,8))
plt.bar(mostCommonNames, totalOccurences)

plt.title("Biggest Artists in First 1000 Playlists")
plt.ylabel("Total Tracks")
plt.xticks(rotation='vertical')

plt.show()

